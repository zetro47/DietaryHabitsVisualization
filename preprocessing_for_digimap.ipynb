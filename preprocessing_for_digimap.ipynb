{
  "nbformat": 4,
  "nbformat_minor": 0,
  "metadata": {
    "colab": {
      "provenance": []
    },
    "kernelspec": {
      "name": "python3",
      "display_name": "Python 3"
    },
    "language_info": {
      "name": "python"
    }
  },
  "cells": [
    {
      "cell_type": "code",
      "execution_count": null,
      "metadata": {
        "colab": {
          "base_uri": "https://localhost:8080/"
        },
        "id": "nQr5VgJ_1nNF",
        "outputId": "103b571e-9a3e-4f77-d1b8-7b31d48411dc"
      },
      "outputs": [
        {
          "output_type": "stream",
          "name": "stdout",
          "text": [
            "                 Diet       N   Age   Women Energy    Grains  Potatoes  \\\n",
            "0              Vegans   2,041  37.3  63.40%  1,754  1.158462  0.981753   \n",
            "1         Vegetarians  15,751  38.6  76.90%  1,879  1.084615  0.921596   \n",
            "2         Fish-eaters   8,123  41.8  82.20%  1,897  1.066154  0.873471   \n",
            "3     Low meat-eaters   9,332  47.5  80.00%  1,816  0.941538  0.861440   \n",
            "4  Medium meat-eaters  11,971  49.8  77.80%  1,940  0.872308  1.074393   \n",
            "5    High meat-eaters   8,286  49.7  72.10%  2,222  0.876923  1.287347   \n",
            "\n",
            "      Beans     Fruit      Meat      Fish    Cheese      Milk    Yogurt  \n",
            "0  1.711037  1.231132  0.007347  0.018018  0.074565  0.028417  0.074241  \n",
            "1  1.239223  1.004717  0.009796  0.021622  1.491301  1.026181  1.137233  \n",
            "2  1.054477  1.033019  0.048980  1.401802  1.357084  1.077490  1.268841  \n",
            "3  0.716248  0.976415  0.693061  1.390991  1.133389  1.184055  1.285714  \n",
            "4  0.613927  0.891509  1.812245  1.574775  0.984258  1.306407  1.160855  \n",
            "5  0.665088  0.863208  3.428571  1.592793  0.959403  1.377450  1.073116  \n"
          ]
        }
      ],
      "source": [
        "import pandas as pd\n",
        "\n",
        "df = pd.read_csv('/content/dietary_data.csv')\n",
        "\n",
        "food_items = [\"Grains\", \"Potatoes\", \"Beans\", \"Fruit\", \"Meat\", \"Fish\", \"Cheese\", \"Milk\", \"Yogurt\"]\n",
        "\n",
        "for col in food_items:\n",
        "    df[col] = pd.to_numeric(df[col], errors='coerce')\n",
        "    df[col] = df.apply(lambda row: row[col] / (df[col].sum()/6), axis = 1) # Proportional Consumption\n",
        "\n",
        "print(df)\n",
        "\n",
        "\n",
        "df.to_excel(\"dietary_data_proportioned.xlsx\", index=False)"
      ]
    },
    {
      "cell_type": "code",
      "source": [
        "\n",
        "supple_df = pd.read_csv(\"/content/supple_data.csv\", encoding='ISO-8859-1')\n",
        "supple_agg_rows = []\n",
        "supple_df['Weight'] = supple_df['Weight'].str[:-1]\n",
        "supple_df['Weight'] = pd.to_numeric(supple_df['Weight'], errors='coerce')\n",
        "supple_df_grouped = supple_df.groupby(['Data S2 Name', 'Country'])\n",
        "for name, group in supple_df_grouped:\n",
        "  group['ProportionWithinCountry'] = group['Weight'] / group[\"Weight\"].sum()\n",
        "  #group['ProportionalLandUse'] =  group['Land Use (m2*year)'] * group['ProportionWithinCountry']\n",
        "  group['ProportionalWaterUse'] =  group['Water Use (L)'] * group['ProportionWithinCountry']\n",
        "  row = {'S2_Name': name[0], 'Country': name[1], 'Water Use (L)': group['ProportionalWaterUse'].sum(), 'GlobalProportion%': group[\"Weight\"].sum()}\n",
        "  supple_agg_rows.append(row)\n",
        "\n",
        "supple_agg_df = pd.DataFrame(supple_agg_rows)\n",
        "\n",
        "print(supple_agg_df)"
      ],
      "metadata": {
        "colab": {
          "base_uri": "https://localhost:8080/"
        },
        "id": "WUvrMvS32jdT",
        "outputId": "65b27755-486c-4b3b-d945-0849cb8fc07e"
      },
      "execution_count": null,
      "outputs": [
        {
          "output_type": "stream",
          "name": "stdout",
          "text": [
            "    S2_Name                   Country  Water Use (L)  GlobalProportion%\n",
            "0    Apples                    Canada       0.000000                2.2\n",
            "1    Apples                     Chile       0.730000                8.1\n",
            "2    Apples                     China       1.720000               32.0\n",
            "3    Apples                    France      38.023900               10.0\n",
            "4    Apples                   Germany      14.118200                5.0\n",
            "..      ...                       ...            ...                ...\n",
            "347    Wine                     Italy      34.279947               19.0\n",
            "348    Wine                  Portugal       3.630000                6.1\n",
            "349    Wine                     Spain       7.880000               27.3\n",
            "350    Wine               Switzerland       2.039000                1.0\n",
            "351    Wine  United States of America     322.271190               25.2\n",
            "\n",
            "[352 rows x 4 columns]\n"
          ]
        }
      ]
    },
    {
      "cell_type": "code",
      "source": [
        "supple_agg_df['S2_Name'].unique()"
      ],
      "metadata": {
        "colab": {
          "base_uri": "https://localhost:8080/"
        },
        "id": "13iZ_j9c9NWn",
        "outputId": "d347635d-e3ca-4f82-c66f-82f3dacb01f7"
      },
      "execution_count": null,
      "outputs": [
        {
          "output_type": "execute_result",
          "data": {
            "text/plain": [
              "array(['Apples', 'Bananas', 'Barley (Beer)', 'Beet Sugar',\n",
              "       'Berries & Grapes', 'Bovine Meat (beef herd)',\n",
              "       'Bovine Meat (dairy herd)', 'Brassicas', 'Cane Sugar', 'Cassava',\n",
              "       'Cheese', 'Citrus Fruit', 'Coffee', 'Crustaceans (farmed)',\n",
              "       'Dark Chocolate', 'Eggs', 'Fish (farmed)', 'Groundnuts',\n",
              "       'Lamb & Mutton', 'Maize (Meal)', 'Milk', 'Nuts', 'Oatmeal',\n",
              "       'Olive Oil', 'Onions & Leeks', 'Other Fruit', 'Other Pulses',\n",
              "       'Other Vegetables', 'Palm Oil', 'Peas', 'Pig Meat', 'Potatoes',\n",
              "       'Poultry Meat', 'Rapeseed Oil', 'Rice', 'Root Vegetables',\n",
              "       'Soybean Oil', 'Soymilk', 'Sunflower Oil', 'Tofu', 'Tomatoes',\n",
              "       'Wheat & Rye (Bread)', 'Wine'], dtype=object)"
            ]
          },
          "metadata": {},
          "execution_count": 22
        }
      ]
    },
    {
      "cell_type": "code",
      "source": [
        "mapping = {\n",
        "    'Grains': ['Barley (Beer)', 'Beet Sugar', 'Maize (Meal)', 'Oatmeal', 'Rice', 'Wheat & Rye (Bread)'],\n",
        "    'Potatoes': ['Potatoes'],\n",
        "    'Beans': ['Groundnuts', 'Other Pulses', 'Peas', 'Soybean Oil'],\n",
        "    'Fruit': ['Apples', 'Bananas', 'Berries & Grapes', 'Citrus Fruit', 'Other Fruit', 'Tomatoes'],\n",
        "    'Meat': ['Bovine Meat (beef herd)', 'Bovine Meat (dairy herd)', 'Lamb & Mutton', 'Pig Meat', 'Poultry Meat'],\n",
        "    'Fish': ['Crustaceans (farmed)', 'Fish (farmed)'],\n",
        "    'Cheese': ['Cheese'],\n",
        "    'Milk': ['Milk'],\n",
        "    'Yogurt': ['Soymilk', 'Tofu']\n",
        "}\n",
        "reverse_mapping = {value: key for key, values in mapping.items() for value in values}\n",
        "supple_agg_df['Category'] = supple_agg_df['S2_Name'].map(reverse_mapping)\n",
        "print(supple_agg_df)\n",
        "supple_agg_df.to_excel(\"supple_agg_df_water.xlsx\", index=False)"
      ],
      "metadata": {
        "colab": {
          "base_uri": "https://localhost:8080/"
        },
        "id": "FzuzoawB_S8j",
        "outputId": "6b5435a0-792f-4360-80d7-4597336323d8"
      },
      "execution_count": null,
      "outputs": [
        {
          "output_type": "stream",
          "name": "stdout",
          "text": [
            "    S2_Name                   Country  Water Use (L)  GlobalProportion%  \\\n",
            "0    Apples                    Canada       0.000000                2.2   \n",
            "1    Apples                     Chile       0.730000                8.1   \n",
            "2    Apples                     China       1.720000               32.0   \n",
            "3    Apples                    France      38.023900               10.0   \n",
            "4    Apples                   Germany      14.118200                5.0   \n",
            "..      ...                       ...            ...                ...   \n",
            "347    Wine                     Italy      34.279947               19.0   \n",
            "348    Wine                  Portugal       3.630000                6.1   \n",
            "349    Wine                     Spain       7.880000               27.3   \n",
            "350    Wine               Switzerland       2.039000                1.0   \n",
            "351    Wine  United States of America     322.271190               25.2   \n",
            "\n",
            "    Category  \n",
            "0      Fruit  \n",
            "1      Fruit  \n",
            "2      Fruit  \n",
            "3      Fruit  \n",
            "4      Fruit  \n",
            "..       ...  \n",
            "347      NaN  \n",
            "348      NaN  \n",
            "349      NaN  \n",
            "350      NaN  \n",
            "351      NaN  \n",
            "\n",
            "[352 rows x 5 columns]\n"
          ]
        }
      ]
    },
    {
      "cell_type": "code",
      "source": [
        "\n",
        "vegan_proportions = dietary_data_df[dietary_data_df['Diet'] == 'Vegetarians']\n",
        "vegan_proportions"
      ],
      "metadata": {
        "colab": {
          "base_uri": "https://localhost:8080/",
          "height": 80
        },
        "id": "ENb3lRIpaN3z",
        "outputId": "0c1e2206-5e9c-4c5a-b725-15c48f7e8480"
      },
      "execution_count": null,
      "outputs": [
        {
          "output_type": "execute_result",
          "data": {
            "text/plain": [
              "          Diet       N   Age   Women Energy    Grains  Potatoes     Beans  \\\n",
              "1  Vegetarians  15,751  38.6  76.90%  1,879  0.180769  0.153599  0.206537   \n",
              "\n",
              "      Fruit      Meat      Fish   Cheese     Milk    Yogurt  \n",
              "1  0.167453  0.001633  0.003604  0.24855  0.17103  0.189539  "
            ],
            "text/html": [
              "\n",
              "  <div id=\"df-61c11b81-2932-4316-9423-f2835866ef2e\" class=\"colab-df-container\">\n",
              "    <div>\n",
              "<style scoped>\n",
              "    .dataframe tbody tr th:only-of-type {\n",
              "        vertical-align: middle;\n",
              "    }\n",
              "\n",
              "    .dataframe tbody tr th {\n",
              "        vertical-align: top;\n",
              "    }\n",
              "\n",
              "    .dataframe thead th {\n",
              "        text-align: right;\n",
              "    }\n",
              "</style>\n",
              "<table border=\"1\" class=\"dataframe\">\n",
              "  <thead>\n",
              "    <tr style=\"text-align: right;\">\n",
              "      <th></th>\n",
              "      <th>Diet</th>\n",
              "      <th>N</th>\n",
              "      <th>Age</th>\n",
              "      <th>Women</th>\n",
              "      <th>Energy</th>\n",
              "      <th>Grains</th>\n",
              "      <th>Potatoes</th>\n",
              "      <th>Beans</th>\n",
              "      <th>Fruit</th>\n",
              "      <th>Meat</th>\n",
              "      <th>Fish</th>\n",
              "      <th>Cheese</th>\n",
              "      <th>Milk</th>\n",
              "      <th>Yogurt</th>\n",
              "    </tr>\n",
              "  </thead>\n",
              "  <tbody>\n",
              "    <tr>\n",
              "      <th>1</th>\n",
              "      <td>Vegetarians</td>\n",
              "      <td>15,751</td>\n",
              "      <td>38.6</td>\n",
              "      <td>76.90%</td>\n",
              "      <td>1,879</td>\n",
              "      <td>0.180769</td>\n",
              "      <td>0.153599</td>\n",
              "      <td>0.206537</td>\n",
              "      <td>0.167453</td>\n",
              "      <td>0.001633</td>\n",
              "      <td>0.003604</td>\n",
              "      <td>0.24855</td>\n",
              "      <td>0.17103</td>\n",
              "      <td>0.189539</td>\n",
              "    </tr>\n",
              "  </tbody>\n",
              "</table>\n",
              "</div>\n",
              "    <div class=\"colab-df-buttons\">\n",
              "\n",
              "  <div class=\"colab-df-container\">\n",
              "    <button class=\"colab-df-convert\" onclick=\"convertToInteractive('df-61c11b81-2932-4316-9423-f2835866ef2e')\"\n",
              "            title=\"Convert this dataframe to an interactive table.\"\n",
              "            style=\"display:none;\">\n",
              "\n",
              "  <svg xmlns=\"http://www.w3.org/2000/svg\" height=\"24px\" viewBox=\"0 -960 960 960\">\n",
              "    <path d=\"M120-120v-720h720v720H120Zm60-500h600v-160H180v160Zm220 220h160v-160H400v160Zm0 220h160v-160H400v160ZM180-400h160v-160H180v160Zm440 0h160v-160H620v160ZM180-180h160v-160H180v160Zm440 0h160v-160H620v160Z\"/>\n",
              "  </svg>\n",
              "    </button>\n",
              "\n",
              "  <style>\n",
              "    .colab-df-container {\n",
              "      display:flex;\n",
              "      gap: 12px;\n",
              "    }\n",
              "\n",
              "    .colab-df-convert {\n",
              "      background-color: #E8F0FE;\n",
              "      border: none;\n",
              "      border-radius: 50%;\n",
              "      cursor: pointer;\n",
              "      display: none;\n",
              "      fill: #1967D2;\n",
              "      height: 32px;\n",
              "      padding: 0 0 0 0;\n",
              "      width: 32px;\n",
              "    }\n",
              "\n",
              "    .colab-df-convert:hover {\n",
              "      background-color: #E2EBFA;\n",
              "      box-shadow: 0px 1px 2px rgba(60, 64, 67, 0.3), 0px 1px 3px 1px rgba(60, 64, 67, 0.15);\n",
              "      fill: #174EA6;\n",
              "    }\n",
              "\n",
              "    .colab-df-buttons div {\n",
              "      margin-bottom: 4px;\n",
              "    }\n",
              "\n",
              "    [theme=dark] .colab-df-convert {\n",
              "      background-color: #3B4455;\n",
              "      fill: #D2E3FC;\n",
              "    }\n",
              "\n",
              "    [theme=dark] .colab-df-convert:hover {\n",
              "      background-color: #434B5C;\n",
              "      box-shadow: 0px 1px 3px 1px rgba(0, 0, 0, 0.15);\n",
              "      filter: drop-shadow(0px 1px 2px rgba(0, 0, 0, 0.3));\n",
              "      fill: #FFFFFF;\n",
              "    }\n",
              "  </style>\n",
              "\n",
              "    <script>\n",
              "      const buttonEl =\n",
              "        document.querySelector('#df-61c11b81-2932-4316-9423-f2835866ef2e button.colab-df-convert');\n",
              "      buttonEl.style.display =\n",
              "        google.colab.kernel.accessAllowed ? 'block' : 'none';\n",
              "\n",
              "      async function convertToInteractive(key) {\n",
              "        const element = document.querySelector('#df-61c11b81-2932-4316-9423-f2835866ef2e');\n",
              "        const dataTable =\n",
              "          await google.colab.kernel.invokeFunction('convertToInteractive',\n",
              "                                                    [key], {});\n",
              "        if (!dataTable) return;\n",
              "\n",
              "        const docLinkHtml = 'Like what you see? Visit the ' +\n",
              "          '<a target=\"_blank\" href=https://colab.research.google.com/notebooks/data_table.ipynb>data table notebook</a>'\n",
              "          + ' to learn more about interactive tables.';\n",
              "        element.innerHTML = '';\n",
              "        dataTable['output_type'] = 'display_data';\n",
              "        await google.colab.output.renderOutput(dataTable, element);\n",
              "        const docLink = document.createElement('div');\n",
              "        docLink.innerHTML = docLinkHtml;\n",
              "        element.appendChild(docLink);\n",
              "      }\n",
              "    </script>\n",
              "  </div>\n",
              "\n",
              "    </div>\n",
              "  </div>\n"
            ],
            "application/vnd.google.colaboratory.intrinsic+json": {
              "type": "dataframe",
              "variable_name": "vegan_proportions",
              "summary": "{\n  \"name\": \"vegan_proportions\",\n  \"rows\": 1,\n  \"fields\": [\n    {\n      \"column\": \"Diet\",\n      \"properties\": {\n        \"dtype\": \"string\",\n        \"num_unique_values\": 1,\n        \"samples\": [\n          \"Vegetarians\"\n        ],\n        \"semantic_type\": \"\",\n        \"description\": \"\"\n      }\n    },\n    {\n      \"column\": \"N\",\n      \"properties\": {\n        \"dtype\": \"string\",\n        \"num_unique_values\": 1,\n        \"samples\": [\n          \"15,751\"\n        ],\n        \"semantic_type\": \"\",\n        \"description\": \"\"\n      }\n    },\n    {\n      \"column\": \"Age\",\n      \"properties\": {\n        \"dtype\": \"number\",\n        \"std\": null,\n        \"min\": 38.6,\n        \"max\": 38.6,\n        \"num_unique_values\": 1,\n        \"samples\": [\n          38.6\n        ],\n        \"semantic_type\": \"\",\n        \"description\": \"\"\n      }\n    },\n    {\n      \"column\": \"Women\",\n      \"properties\": {\n        \"dtype\": \"string\",\n        \"num_unique_values\": 1,\n        \"samples\": [\n          \"76.90%\"\n        ],\n        \"semantic_type\": \"\",\n        \"description\": \"\"\n      }\n    },\n    {\n      \"column\": \"Energy\",\n      \"properties\": {\n        \"dtype\": \"string\",\n        \"num_unique_values\": 1,\n        \"samples\": [\n          \"1,879\"\n        ],\n        \"semantic_type\": \"\",\n        \"description\": \"\"\n      }\n    },\n    {\n      \"column\": \"Grains\",\n      \"properties\": {\n        \"dtype\": \"number\",\n        \"std\": null,\n        \"min\": 0.1807692307692308,\n        \"max\": 0.1807692307692308,\n        \"num_unique_values\": 1,\n        \"samples\": [\n          0.1807692307692308\n        ],\n        \"semantic_type\": \"\",\n        \"description\": \"\"\n      }\n    },\n    {\n      \"column\": \"Potatoes\",\n      \"properties\": {\n        \"dtype\": \"number\",\n        \"std\": null,\n        \"min\": 0.1535993583316623,\n        \"max\": 0.1535993583316623,\n        \"num_unique_values\": 1,\n        \"samples\": [\n          0.1535993583316623\n        ],\n        \"semantic_type\": \"\",\n        \"description\": \"\"\n      }\n    },\n    {\n      \"column\": \"Beans\",\n      \"properties\": {\n        \"dtype\": \"number\",\n        \"std\": null,\n        \"min\": 0.206537186167693,\n        \"max\": 0.206537186167693,\n        \"num_unique_values\": 1,\n        \"samples\": [\n          0.206537186167693\n        ],\n        \"semantic_type\": \"\",\n        \"description\": \"\"\n      }\n    },\n    {\n      \"column\": \"Fruit\",\n      \"properties\": {\n        \"dtype\": \"number\",\n        \"std\": null,\n        \"min\": 0.1674528301886792,\n        \"max\": 0.1674528301886792,\n        \"num_unique_values\": 1,\n        \"samples\": [\n          0.1674528301886792\n        ],\n        \"semantic_type\": \"\",\n        \"description\": \"\"\n      }\n    },\n    {\n      \"column\": \"Meat\",\n      \"properties\": {\n        \"dtype\": \"number\",\n        \"std\": null,\n        \"min\": 0.00163265306122449,\n        \"max\": 0.00163265306122449,\n        \"num_unique_values\": 1,\n        \"samples\": [\n          0.00163265306122449\n        ],\n        \"semantic_type\": \"\",\n        \"description\": \"\"\n      }\n    },\n    {\n      \"column\": \"Fish\",\n      \"properties\": {\n        \"dtype\": \"number\",\n        \"std\": null,\n        \"min\": 0.003603603603603604,\n        \"max\": 0.003603603603603604,\n        \"num_unique_values\": 1,\n        \"samples\": [\n          0.003603603603603604\n        ],\n        \"semantic_type\": \"\",\n        \"description\": \"\"\n      }\n    },\n    {\n      \"column\": \"Cheese\",\n      \"properties\": {\n        \"dtype\": \"number\",\n        \"std\": null,\n        \"min\": 0.2485501242750622,\n        \"max\": 0.2485501242750622,\n        \"num_unique_values\": 1,\n        \"samples\": [\n          0.2485501242750622\n        ],\n        \"semantic_type\": \"\",\n        \"description\": \"\"\n      }\n    },\n    {\n      \"column\": \"Milk\",\n      \"properties\": {\n        \"dtype\": \"number\",\n        \"std\": null,\n        \"min\": 0.1710301276147875,\n        \"max\": 0.1710301276147875,\n        \"num_unique_values\": 1,\n        \"samples\": [\n          0.1710301276147875\n        ],\n        \"semantic_type\": \"\",\n        \"description\": \"\"\n      }\n    },\n    {\n      \"column\": \"Yogurt\",\n      \"properties\": {\n        \"dtype\": \"number\",\n        \"std\": null,\n        \"min\": 0.1895388076490439,\n        \"max\": 0.1895388076490439,\n        \"num_unique_values\": 1,\n        \"samples\": [\n          0.1895388076490439\n        ],\n        \"semantic_type\": \"\",\n        \"description\": \"\"\n      }\n    }\n  ]\n}"
            }
          },
          "metadata": {},
          "execution_count": 4
        }
      ]
    },
    {
      "cell_type": "code",
      "source": [
        "dietary_data_df = pd.read_excel('dietary_data_proportioned.xlsx')\n",
        "\n",
        "main_data_counts_df = pd.read_excel('main_data_counts.xlsx')\n",
        "main_data_counts_df\n",
        "\n",
        "diet_group_name_mappings = {'fish': 'Fish-eaters', 'veggie': 'Vegetarians', 'vegan': 'Vegans', 'meat': 'Low meat-eaters', 'meat50': 'Medium meat-eaters', 'meat100': 'High meat-eaters'}\n",
        "main_data_counts_df = main_data_counts_df[main_data_counts_df['age_group'] == '20-29']\n",
        "\n",
        "proportions_by_age = []\n",
        "\n",
        "for index, row in main_data_counts_df.iterrows():\n",
        "  proportions = dietary_data_df[dietary_data_df['Diet'] == diet_group_name_mappings[row['diet_group']]]\n",
        "  proportions_by_age.append(proportions[mapping.keys()] * row['n_participants_proportioned'])\n",
        "\n",
        "proportions_by_age = pd.concat(proportions_by_age, ignore_index=True).sum()\n",
        "proportions_by_age"
      ],
      "metadata": {
        "colab": {
          "base_uri": "https://localhost:8080/"
        },
        "id": "q_Smngo6bPDO",
        "outputId": "92586c39-5625-43dd-9453-723c386edc98"
      },
      "execution_count": null,
      "outputs": [
        {
          "output_type": "execute_result",
          "data": {
            "text/plain": [
              "Grains      1.039994\n",
              "Potatoes    0.949826\n",
              "Beans       1.098287\n",
              "Fruit       1.004547\n",
              "Meat        0.466417\n",
              "Fish        0.633599\n",
              "Cheese      1.242038\n",
              "Milk        1.021389\n",
              "Yogurt      1.089297\n",
              "dtype: float64"
            ]
          },
          "metadata": {},
          "execution_count": 26
        }
      ]
    },
    {
      "cell_type": "code",
      "source": [
        "supple_agg_df = pd.read_excel('supple_agg_df.xlsx')\n",
        "dietary_data_df = pd.read_excel('dietary_data_proportioned.xlsx')\n",
        "supple_agg_df.dropna(inplace=True)\n",
        "diet_type = 'Vegetarians'\n",
        "vegan_proportions = dietary_data_df[dietary_data_df['Diet'] == diet_type]\n",
        "supple_agg_df['ProportionatedLandUseByDietType'] = supple_agg_df.apply(lambda row: row['LandUse(m2*year)'] * (proportions_by_age[row['Category']]), axis = 1)\n",
        "land_use_summed = supple_agg_df.groupby('Country')['ProportionatedLandUseByDietType'].sum().to_dict()\n"
      ],
      "metadata": {
        "id": "X_vbso3UAIIA"
      },
      "execution_count": null,
      "outputs": []
    },
    {
      "cell_type": "code",
      "source": [
        "land_use_summed"
      ],
      "metadata": {
        "colab": {
          "base_uri": "https://localhost:8080/"
        },
        "id": "oj2QWDbvIPBH",
        "outputId": "e627654c-9899-4c50-9339-79015617de16"
      },
      "execution_count": null,
      "outputs": [
        {
          "output_type": "execute_result",
          "data": {
            "text/plain": [
              "{'Argentina': 23.956299237048796,\n",
              " 'Australia': 76.80774890078,\n",
              " 'Austria': 5.993452889902416,\n",
              " 'Bangladesh': 1.1313950543128084,\n",
              " 'Belgium': 16.7384247187685,\n",
              " 'Benin': 6.204505826026059,\n",
              " 'Brazil': 483.227592225991,\n",
              " 'Cameroon': 0.0,\n",
              " 'Canada': 86.41409801267024,\n",
              " 'Chile': 4.426595762303174,\n",
              " 'China': 40.070112269075814,\n",
              " 'Colombia': 17.72020584552489,\n",
              " 'Costa Rica': 1.7077295882875463,\n",
              " 'Cuba': 15.102568449419474,\n",
              " 'Cyprus': 1.403991989179284,\n",
              " 'Denmark': 28.78733814037011,\n",
              " 'Ecuador': 5.064907729724834,\n",
              " 'Finland': 2.7559842750556314,\n",
              " 'France': 130.10754036215198,\n",
              " 'Germany': 32.69281609512581,\n",
              " 'Greece': 12.186104030826057,\n",
              " 'Guadeloupe': 0.4319551311550852,\n",
              " 'Hungary': 0.020090936332794664,\n",
              " 'India': 34.358501386853085,\n",
              " 'Iran (Islamic Republic of)': 72.50784757064865,\n",
              " 'Ireland': 12.738912611219458,\n",
              " 'Israel': 0.43692011026741,\n",
              " 'Italy': 27.915344783960382,\n",
              " 'Japan': 10.52245518611903,\n",
              " 'Malaysia': 4.421629058075867,\n",
              " 'Mexico': 165.2524603884461,\n",
              " 'Morocco': 0.925532462554787,\n",
              " 'Nepal': 2.412786233256251,\n",
              " 'Netherlands': 29.314405602996356,\n",
              " 'New Zealand': 0.23926478723600916,\n",
              " 'Norway': 3.7907783707840665,\n",
              " 'Panama': 2.210002996607413,\n",
              " 'Peru': 343.11266749706846,\n",
              " 'Poland': 4.538189673620333,\n",
              " 'Portugal': 38.042133274326325,\n",
              " 'Russian Federation': 1.576711702269349,\n",
              " 'South Africa': 149.4688775606835,\n",
              " 'Spain': 30.99390294881926,\n",
              " 'Sweden': 135.60180002746273,\n",
              " 'Switzerland': 7.505131663148118,\n",
              " 'Thailand': 42.79639070992149,\n",
              " 'Turkey': 0.1607274906623573,\n",
              " 'Ukraine': 1.1017985389352076,\n",
              " 'United Kingdom': 28.53728598276535,\n",
              " 'United States of America': 117.85649654224557,\n",
              " 'Viet Nam': 1.606703761929081}"
            ]
          },
          "metadata": {},
          "execution_count": 28
        }
      ]
    },
    {
      "cell_type": "code",
      "source": [],
      "metadata": {
        "id": "7bhi8ijKgb3E"
      },
      "execution_count": null,
      "outputs": []
    }
  ]
}